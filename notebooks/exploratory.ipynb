{
 "cells": [
  {
   "cell_type": "code",
   "id": "initial_id",
   "metadata": {
    "collapsed": true,
    "ExecuteTime": {
     "end_time": "2025-08-13T20:33:42.990978Z",
     "start_time": "2025-08-13T20:33:42.982535Z"
    }
   },
   "source": [
    "import torch, torchvision\n",
    "from torchvision import datasets\n",
    "import torchvision.transforms as tf\n",
    "import matplotlib.pyplot as plt\n",
    "from torch.utils.data import DataLoader\n",
    "from torchvision.datasets import FashionMNIST"
   ],
   "outputs": [],
   "execution_count": 3
  },
  {
   "metadata": {
    "ExecuteTime": {
     "end_time": "2025-08-13T20:36:56.712110Z",
     "start_time": "2025-08-13T20:36:56.700384Z"
    }
   },
   "cell_type": "code",
   "source": [
    "device = torch.device(\"cuda:0\" if torch.cuda.is_available() else \"cpu\")\n",
    "device"
   ],
   "id": "f00927a4e574f5db",
   "outputs": [
    {
     "data": {
      "text/plain": [
       "device(type='cpu')"
      ]
     },
     "execution_count": 10,
     "metadata": {},
     "output_type": "execute_result"
    }
   ],
   "execution_count": 10
  },
  {
   "metadata": {
    "ExecuteTime": {
     "end_time": "2025-08-13T20:33:12.014290Z",
     "start_time": "2025-08-13T20:32:59.239981Z"
    }
   },
   "cell_type": "code",
   "source": [
    "training_data = datasets.FashionMNIST(root='./data',\n",
    "                                      train=True,\n",
    "                                      download=True,\n",
    "                                      transform=tf.ToTensor(),\n",
    "                                      target_transform=None)"
   ],
   "id": "934ee1d176179052",
   "outputs": [
    {
     "name": "stderr",
     "output_type": "stream",
     "text": [
      "100%|██████████| 26.4M/26.4M [00:08<00:00, 3.22MB/s]\n",
      "100%|██████████| 29.5k/29.5k [00:00<00:00, 296kB/s]\n",
      "100%|██████████| 4.42M/4.42M [00:01<00:00, 3.43MB/s]\n",
      "100%|██████████| 5.15k/5.15k [00:00<?, ?B/s]\n"
     ]
    }
   ],
   "execution_count": 2
  },
  {
   "metadata": {
    "ExecuteTime": {
     "end_time": "2025-08-13T20:33:47.362001Z",
     "start_time": "2025-08-13T20:33:47.346905Z"
    }
   },
   "cell_type": "code",
   "source": [
    "def calculate_mean_std(dataset, batch_size: int = 10):\n",
    "    loader = DataLoader(dataset, batch_size=batch_size, shuffle=False)\n",
    "    mean = 0.\n",
    "    std = 0.\n",
    "    nb_samples = 0.\n",
    "    for data, label in loader:\n",
    "        batch_samples = data.size(0)\n",
    "        data = data.view(batch_samples, data.size(1), -1)\n",
    "        mean += data.mean(2).sum(0)\n",
    "        std += data.std(2).sum(0)\n",
    "        nb_samples += batch_samples\n",
    "\n",
    "    mean /= nb_samples\n",
    "    std /= nb_samples\n",
    "    return mean, std"
   ],
   "id": "a496e201190a2616",
   "outputs": [],
   "execution_count": 4
  },
  {
   "metadata": {
    "ExecuteTime": {
     "end_time": "2025-08-13T20:34:18.249883Z",
     "start_time": "2025-08-13T20:34:07.454055Z"
    }
   },
   "cell_type": "code",
   "source": [
    "mean, std = calculate_mean_std(training_data)\n",
    "mean, std"
   ],
   "id": "80f1071a0dd4bfb0",
   "outputs": [
    {
     "data": {
      "text/plain": [
       "(tensor([0.2860]), tensor([0.3205]))"
      ]
     },
     "execution_count": 5,
     "metadata": {},
     "output_type": "execute_result"
    }
   ],
   "execution_count": 5
  },
  {
   "metadata": {
    "ExecuteTime": {
     "end_time": "2025-08-13T20:36:14.308781Z",
     "start_time": "2025-08-13T20:36:14.300273Z"
    }
   },
   "cell_type": "code",
   "source": [
    "normalized_tf = tf.Compose([\n",
    "    tf.ToTensor(),\n",
    "    tf.Normalize(mean.tolist(), std.tolist())\n",
    "])"
   ],
   "id": "f0f98c60d946b65b",
   "outputs": [],
   "execution_count": 7
  },
  {
   "metadata": {
    "ExecuteTime": {
     "end_time": "2025-08-13T20:34:52.136211Z",
     "start_time": "2025-08-13T20:34:52.129996Z"
    }
   },
   "cell_type": "code",
   "source": [
    "training_data.transform = tf.Compose([\n",
    "    tf.ToTensor(),\n",
    "    tf.Normalize(mean.tolist(), std.tolist())\n",
    "])"
   ],
   "id": "46835b1d255d7253",
   "outputs": [],
   "execution_count": 6
  },
  {
   "metadata": {
    "ExecuteTime": {
     "end_time": "2025-08-13T20:36:23.639962Z",
     "start_time": "2025-08-13T20:36:23.615033Z"
    }
   },
   "cell_type": "code",
   "source": [
    "testing_data = datasets.FashionMNIST(root='./data',\n",
    "                                     train=False,\n",
    "                                     download=True,\n",
    "                                     transform=normalized_tf,\n",
    "                                     target_transform=None)"
   ],
   "id": "26497406e5ce9a71",
   "outputs": [],
   "execution_count": 8
  },
  {
   "metadata": {
    "ExecuteTime": {
     "end_time": "2025-08-13T20:37:02.189610Z",
     "start_time": "2025-08-13T20:37:02.178726Z"
    }
   },
   "cell_type": "code",
   "source": [
    "def img_show(img_tensor: torch.Tensor, label, mean, std, device: device):\n",
    "    \"\"\"\n",
    "    Unnormalize and show a tensor image.\n",
    "    img_tensor: Tensor image of shape [C, H, W]\n",
    "    mean, std: Lists of mean and std used during normalization\n",
    "    \"\"\"\n",
    "    # Clone to avoid modifying original\n",
    "    img = img_tensor.clone().to(device)\n",
    "\n",
    "    for channel in range(img_tensor.size(0)):\n",
    "        img[channel] = img[channel] * std[channel] + mean[channel]\n",
    "\n",
    "    npimg = img.permute(1,2,0).detach().numpy()\n",
    "    if img.shape[0] == 1:  # grayscale\n",
    "        npimg = npimg.squeeze()\n",
    "        plt.imshow(npimg, cmap='gray')\n",
    "    else:\n",
    "        plt.imshow(npimg)\n",
    "    plt.title(label)"
   ],
   "id": "ca552f24aa32959f",
   "outputs": [],
   "execution_count": 11
  },
  {
   "metadata": {
    "ExecuteTime": {
     "end_time": "2025-08-13T20:37:23.074360Z",
     "start_time": "2025-08-13T20:37:23.061402Z"
    }
   },
   "cell_type": "code",
   "source": [
    "class_name = training_data.classes\n",
    "len(class_name), class_name"
   ],
   "id": "b58bef66bf176988",
   "outputs": [
    {
     "data": {
      "text/plain": [
       "(10,\n",
       " ['T-shirt/top',\n",
       "  'Trouser',\n",
       "  'Pullover',\n",
       "  'Dress',\n",
       "  'Coat',\n",
       "  'Sandal',\n",
       "  'Shirt',\n",
       "  'Sneaker',\n",
       "  'Bag',\n",
       "  'Ankle boot'])"
      ]
     },
     "execution_count": 12,
     "metadata": {},
     "output_type": "execute_result"
    }
   ],
   "execution_count": 12
  },
  {
   "metadata": {
    "ExecuteTime": {
     "end_time": "2025-08-13T20:37:31.027584Z",
     "start_time": "2025-08-13T20:37:30.760199Z"
    }
   },
   "cell_type": "code",
   "source": "img_show(training_data[0][0], class_name[training_data[0][1]], mean, std, device)",
   "id": "693265a6d2434d6b",
   "outputs": [
    {
     "data": {
      "text/plain": [
       "<Figure size 640x480 with 1 Axes>"
      ],
      "image/png": "[encoded data removed]"
     },
     "metadata": {},
     "output_type": "display_data"
    }
   ],
   "execution_count": 13
  },
  {
   "metadata": {
    "ExecuteTime": {
     "end_time": "2025-08-13T21:33:24.389644Z",
     "start_time": "2025-08-13T21:33:24.319155Z"
    }
   },
   "cell_type": "code",
   "source": "import torch.nn as nn",
   "id": "9ad5d524fea2ac10",
   "outputs": [],
   "execution_count": 14
  },
  {
   "metadata": {
    "ExecuteTime": {
     "end_time": "2025-08-13T21:36:05.174735Z",
     "start_time": "2025-08-13T21:36:05.120300Z"
    }
   },
   "cell_type": "code",
   "source": [
    "class CNNFashionMNIST(nn.Module):\n",
    "    def __init__(self, input_size, hidden_size, output_size):\n",
    "        super(CNNFashionMNIST, self).__init__()\n",
    "        self.conv_block_1 = nn.Sequential(\n",
    "            nn.Conv2d(in_channels=input_size,\n",
    "                      out_channels=hidden_size,\n",
    "                      kernel_size=3,\n",
    "                      stride=1,\n",
    "                      padding=1),\n",
    "            nn.ReLU(),\n",
    "            nn.Conv2d(in_channels=hidden_size,\n",
    "                      out_channels=hidden_size,\n",
    "                      kernel_size=3,\n",
    "                      stride=1,\n",
    "                      padding=1),\n",
    "            nn.MaxPool2d(kernel_size=2)\n",
    "        )\n",
    "        self.conv_block_2 = nn.Sequential(\n",
    "            nn.Conv2d(in_channels=hidden_size,\n",
    "                      out_channels=hidden_size,\n",
    "                      kernel_size=3,\n",
    "                      stride=1,\n",
    "                      padding=1),\n",
    "            nn.ReLU(),\n",
    "            nn.Conv2d(in_channels=hidden_size,\n",
    "                      out_channels=hidden_size,\n",
    "                      kernel_size=3,\n",
    "                      stride=1,\n",
    "                      padding=1),\n",
    "            nn.ReLU(),\n",
    "            nn.MaxPool2d(kernel_size=2)\n",
    "        )\n",
    "        self.classifier = nn.Sequential(\n",
    "            nn.Flatten(),\n",
    "            nn.Linear(in_features=hidden_size * 7 * 7, out_features=output_size),\n",
    "        )\n",
    "\n",
    "    def forward(self, x: torch.Tensor):\n",
    "        x = self.conv_block_1(x)\n",
    "        print(x.shape)\n",
    "        x = self.conv_block_2(x)\n",
    "        print(x.shape)\n",
    "        # x = self.classifier(self.conv_block_2(self.conv_block_1(x)))\n",
    "        return self.classifier(x)"
   ],
   "id": "483c16d6891d83f",
   "outputs": [],
   "execution_count": 15
  },
  {
   "metadata": {
    "ExecuteTime": {
     "end_time": "2025-08-13T21:36:48.706141Z",
     "start_time": "2025-08-13T21:36:48.620591Z"
    }
   },
   "cell_type": "code",
   "source": "input_sample, label_sample = next(iter(training_data))",
   "id": "9e7f413cb9142868",
   "outputs": [],
   "execution_count": 16
  },
  {
   "metadata": {
    "ExecuteTime": {
     "end_time": "2025-08-13T21:36:53.059086Z",
     "start_time": "2025-08-13T21:36:53.032472Z"
    }
   },
   "cell_type": "code",
   "source": "input_sample.shape",
   "id": "2829f3a467cbce7a",
   "outputs": [
    {
     "data": {
      "text/plain": [
       "torch.Size([1, 28, 28])"
      ]
     },
     "execution_count": 17,
     "metadata": {},
     "output_type": "execute_result"
    }
   ],
   "execution_count": 17
  },
  {
   "metadata": {
    "ExecuteTime": {
     "end_time": "2025-08-13T21:37:57.698145Z",
     "start_time": "2025-08-13T21:37:57.550672Z"
    }
   },
   "cell_type": "code",
   "source": [
    "torch.manual_seed(42)\n",
    "model = CNNFashionMNIST(input_size=1, hidden_size=64, output_size=10)"
   ],
   "id": "3ad5d8bc7a4f537c",
   "outputs": [],
   "execution_count": 18
  },
  {
   "metadata": {
    "ExecuteTime": {
     "end_time": "2025-08-13T21:41:04.456205Z",
     "start_time": "2025-08-13T21:41:04.420379Z"
    }
   },
   "cell_type": "code",
   "source": "model(input_sample.unsqueeze(0))",
   "id": "35379bd69bd5bdaf",
   "outputs": [
    {
     "name": "stdout",
     "output_type": "stream",
     "text": [
      "torch.Size([1, 64, 14, 14])\n",
      "torch.Size([1, 64, 7, 7])\n"
     ]
    },
    {
     "data": {
      "text/plain": [
       "tensor([[-0.0404,  0.0152, -0.0153,  0.0071,  0.0580,  0.0051, -0.0144, -0.0139,\n",
       "         -0.1156,  0.0367]], grad_fn=<AddmmBackward0>)"
      ]
     },
     "execution_count": 20,
     "metadata": {},
     "output_type": "execute_result"
    }
   ],
   "execution_count": 20
  },
  {
   "metadata": {},
   "cell_type": "code",
   "outputs": [],
   "execution_count": null,
   "source": "",
   "id": "77cfee4d7604d744"
  }
 ],
 "metadata": {
  "kernelspec": {
   "display_name": "Python 3",
   "language": "python",
   "name": "python3"
  },
  "language_info": {
   "codemirror_mode": {
    "name": "ipython",
    "version": 2
   },
   "file_extension": ".py",
   "mimetype": "text/x-python",
   "name": "python",
   "nbconvert_exporter": "python",
   "pygments_lexer": "ipython2",
   "version": "2.7.6"
  }
 },
 "nbformat": 4,
 "nbformat_minor": 5
}
